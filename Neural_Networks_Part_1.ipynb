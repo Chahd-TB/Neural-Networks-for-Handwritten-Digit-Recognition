{
  "nbformat": 4,
  "nbformat_minor": 0,
  "metadata": {
    "colab": {
      "provenance": [],
      "include_colab_link": true
    },
    "kernelspec": {
      "name": "python3",
      "display_name": "Python 3"
    },
    "language_info": {
      "name": "python"
    }
  },
  "cells": [
    {
      "cell_type": "markdown",
      "metadata": {
        "id": "view-in-github",
        "colab_type": "text"
      },
      "source": [
        "<a href=\"https://colab.research.google.com/github/Chahd-TB/Neural-Networks-for-Handwritten-Digit-Recognition/blob/main/Neural_Networks_Part_1.ipynb\" target=\"_parent\"><img src=\"https://colab.research.google.com/assets/colab-badge.svg\" alt=\"Open In Colab\"/></a>"
      ]
    },
    {
      "cell_type": "markdown",
      "source": [
        "# Practice Lab: Neural Networks for Handwritten Digit Recognition (Binary Classification)\n",
        "\n",
        "In this exercise, you will use a neural network to recognize the hand-written digits zero and one.\n",
        "\n",
        "\n",
        "# Outline\n",
        "- [ 1 - Setup & Packages ](#1)\n",
        "- [ 2 - Neural Networks](#2)\n",
        "  - [ 2.1 Problem Statement](#2.1)\n",
        "  - [ 2.2 Dataset](#2.2)\n",
        "  - [ 2.3 Model representation](#2.3)\n",
        "  - [ 2.4 Tensorflow Model Implementation](#2.4)\n",
        "    - [ Exercise 1](#ex01)\n",
        "    - [ Exercise 2](#ex02)\n",
        "  - [ 2.5 Pytorch Model Implementation ](#2.5)\n",
        "    - [ Exercise 3](#ex03)\n",
        "    - [ Exercise 4](#ex04)\n",
        "  - [ 2.6 NumPy Model Implementation (Forward Prop in NumPy)](#2.6)\n",
        "    - [ Exercise 5](#ex05)\n",
        "\n"
      ],
      "metadata": {
        "id": "TfPorMKAs8zK"
      }
    },
    {
      "cell_type": "markdown",
      "source": [
        "<a name=\"1\"></a>\n",
        "# 1 -  Setup and Packages\n",
        "\n",
        "Before starting, make sure to mount your Google Drive and navigate to the correct directory where this notebook is located. This ensures you can access the dataset and utility libraries.\n",
        "\n",
        "**Step 1: Mount Google Drive**\n",
        "\n",
        "Run the following code to mount your Google Drive:"
      ],
      "metadata": {
        "id": "OA0jYIdo-vk8"
      }
    },
    {
      "cell_type": "code",
      "source": [
        "from google.colab import drive\n",
        "drive.mount('/content/drive')"
      ],
      "metadata": {
        "id": "R5dh_FU7-w56",
        "colab": {
          "base_uri": "https://localhost:8080/"
        },
        "outputId": "49b865ed-0945-459f-a16b-2c056ffd5af5"
      },
      "execution_count": 1,
      "outputs": [
        {
          "output_type": "stream",
          "name": "stdout",
          "text": [
            "Mounted at /content/drive\n"
          ]
        }
      ]
    },
    {
      "cell_type": "markdown",
      "source": [
        "**Step 2: Navigate to the Notebook's Directory**\n",
        "\n",
        "Change to the directory where this notebook is located. This ensures you can access the dataset and utility files:"
      ],
      "metadata": {
        "id": "8u_DX9JE-0T6"
      }
    },
    {
      "cell_type": "code",
      "source": [
        "cd \"/content/drive/MyDrive/Lab4_ Neural_Networks/\""
      ],
      "metadata": {
        "id": "h9KBLCxg-4tK"
      },
      "execution_count": null,
      "outputs": []
    },
    {
      "cell_type": "markdown",
      "source": [
        "**Step 3: Import Required Packages**\n",
        "\n",
        "Next, let's run the cell below to import all the packages that you will need during this assignment.\n",
        "- [numpy](https://numpy.org/) is the fundamental package for scientific computing with Python.\n",
        "- [matplotlib](http://matplotlib.org) is a popular library to plot graphs in Python.\n",
        "- [tensorflow](https://www.tensorflow.org/) a popular platform for machine learning."
      ],
      "metadata": {
        "id": "nZEBteMotVj_"
      }
    },
    {
      "cell_type": "code",
      "source": [
        "import numpy as np\n",
        "import tensorflow as tf\n",
        "from tensorflow.keras.models import Sequential\n",
        "from tensorflow.keras.layers import Dense\n",
        "import matplotlib.pyplot as plt"
      ],
      "metadata": {
        "id": "eGYtjH_Sthk2"
      },
      "execution_count": null,
      "outputs": []
    },
    {
      "cell_type": "markdown",
      "source": [
        "**Tensorflow vs Keras**  \n",
        "Tensorflow is a machine learning package developed by Google. In 2019, Google integrated Keras into Tensorflow and released Tensorflow 2.0. Keras is a framework developed independently by François Chollet that creates a simple, layer-centric interface to Tensorflow."
      ],
      "metadata": {
        "id": "EPnbNEzJw0WO"
      }
    },
    {
      "cell_type": "markdown",
      "source": [
        "<a name=\"2\"></a>\n",
        "## 2 - Neural Networks\n",
        "\n",
        "In Lab 1, You have implemented logistic regression, which can handle only linearly separable problems. For even more complex scenarios such as image recognition, **neural networks are preferred**.\n",
        "\n",
        "<a name=\"2.1\"></a>\n",
        "### 2.1 Problem Statement\n",
        "\n",
        "In this exercise, you will use a neural network to recognize two handwritten digits, **zero and one**. This is a binary classification task. Automated handwritten digit recognition is widely used today - from recognizing zip codes (postal codes) on mail envelopes to recognizing amounts written on bank checks. You will extend this network to recognize all 10 digits (0-9) in the **second part of this lab**.\n",
        "\n",
        "This exercise will show you how the methods you have learned can be used for this classification task.\n",
        "\n",
        "<a name=\"2.2\"></a>\n",
        "### 2.2 Dataset\n",
        "\n",
        "You will start by loading the dataset for this task.\n",
        "- The `load_data()` function shown below loads the data into variables `X` and `y`\n",
        "\n",
        "\n",
        "- The data set contains 1000 training examples of handwritten digits $^1$, here limited to zero and one.  \n",
        "\n",
        "    - Each training example is a 20-pixel x 20-pixel grayscale image of the digit.\n",
        "        - Each pixel is represented by a floating-point number indicating the grayscale intensity at that location.\n",
        "        - The 20 by 20 grid of pixels is “unrolled” into a 400-dimensional vector.\n",
        "        - Each training example becomes a single row in our data matrix `X`.\n",
        "        - This gives us a 1000 x 400 matrix `X` where every row is a training example of a handwritten digit image.\n",
        "\n",
        "$$X =\n",
        "\\left(\\begin{array}{cc}\n",
        "--- (x^{(1)}) --- \\\\\n",
        "--- (x^{(2)}) --- \\\\\n",
        "\\vdots \\\\\n",
        "--- (x^{(m)}) ---\n",
        "\\end{array}\\right)$$\n",
        "\n",
        "- The second part of the training set is a 1000 x 1 dimensional vector `y` that contains labels for the training set\n",
        "    - `y = 0` if the image is of the digit `0`, `y = 1` if the image is of the digit `1`.\n",
        "\n",
        "$^1$<sub> This is a subset of the MNIST handwritten digit dataset (http://yann.lecun.com/exdb/mnist/)</sub>"
      ],
      "metadata": {
        "id": "a299z5naw318"
      }
    },
    {
      "cell_type": "code",
      "source": [
        "def load_data():\n",
        "    X = np.load(\"data/X.npy\")\n",
        "    y = np.load(\"data/y.npy\")\n",
        "    X = X[0:1000]\n",
        "    y = y[0:1000]\n",
        "    return X, y"
      ],
      "metadata": {
        "id": "NcQtSVsC3Rew"
      },
      "execution_count": null,
      "outputs": []
    },
    {
      "cell_type": "code",
      "execution_count": null,
      "metadata": {
        "id": "rhNBZ9QJnv6N"
      },
      "outputs": [],
      "source": [
        "# load dataset\n",
        "X, y = load_data()"
      ]
    },
    {
      "cell_type": "markdown",
      "source": [
        "**View the variables**\n",
        "Let's get more familiar with your dataset.  \n",
        "- A good place to start is to print out each variable and see what it contains.\n",
        "\n",
        "The code below prints elements of the variables `X` and `y`.  "
      ],
      "metadata": {
        "id": "zauTyQ1A8270"
      }
    },
    {
      "cell_type": "code",
      "source": [
        "print ('The first element of X is: ', X[0])"
      ],
      "metadata": {
        "id": "veWo7Hre9Cqt"
      },
      "execution_count": null,
      "outputs": []
    },
    {
      "cell_type": "code",
      "source": [
        "print ('The first element of y is: ', y[0,0])\n",
        "print ('The last element of y is: ', y[-1,0])"
      ],
      "metadata": {
        "id": "m2hyLx_m9F2L"
      },
      "execution_count": null,
      "outputs": []
    },
    {
      "cell_type": "code",
      "source": [
        "print ('The first element of y is: ', y[0]) # we get an array 1x1\n",
        "print ('The last element of y is: ', y[-1]) # we get an array 1x1"
      ],
      "metadata": {
        "id": "8h5y_Wtw_wby"
      },
      "execution_count": null,
      "outputs": []
    },
    {
      "cell_type": "markdown",
      "source": [
        "**Check the dimensions of your variables**\n",
        "\n",
        "Another way to get familiar with your data is to view its dimensions. Please print the shape of `X` and `y` and see how many training examples you have in your dataset."
      ],
      "metadata": {
        "id": "fARM_JbX-lfc"
      }
    },
    {
      "cell_type": "code",
      "source": [
        "print ('The shape of X is: ' , X.shape)\n",
        "print ('The shape of y is: ' , y.shape)"
      ],
      "metadata": {
        "id": "XDh8n6lH_gji"
      },
      "execution_count": null,
      "outputs": []
    },
    {
      "cell_type": "markdown",
      "source": [
        "**Visualizing the Data**\n",
        "\n",
        "You will begin by visualizing a subset of the training set.\n",
        "- In the cell below, the code randomly selects 64 rows from `X`, maps each row back to a 20 pixel by 20 pixel grayscale image and displays the images together.\n",
        "- The label for each image is displayed above the image"
      ],
      "metadata": {
        "id": "um4M7nPH_9CK"
      }
    },
    {
      "cell_type": "code",
      "source": [
        "m, n = X.shape\n",
        "\n",
        "fig, axes = plt.subplots(8,8, figsize=(8,8))\n",
        "fig.tight_layout(pad=0.1)\n",
        "\n",
        "for i,ax in enumerate(axes.flat):\n",
        "    # Select random indices\n",
        "    random_index = np.random.randint(m)\n",
        "\n",
        "    # Select rows corresponding to the random indices and\n",
        "    # reshape the image\n",
        "    X_random_reshaped = X[random_index].reshape((20,20)).T\n",
        "\n",
        "    # Display the image\n",
        "    ax.imshow(X_random_reshaped, cmap='gray')\n",
        "\n",
        "    # Display the label above the image\n",
        "    ax.set_title(y[random_index,0])\n",
        "    ax.set_axis_off()"
      ],
      "metadata": {
        "id": "yw-GqBnUAf5K"
      },
      "execution_count": null,
      "outputs": []
    },
    {
      "cell_type": "markdown",
      "source": [
        "<a name=\"2.3\"></a>\n",
        "### 2.3 Model representation\n",
        "\n",
        "The neural network you will use in this assignment is shown in the figure below.\n",
        "- This has three dense layers with sigmoid activations.\n",
        "    - Recall that our inputs are pixel values of digit images.\n",
        "    - Since the images are of size $20\\times 20$, this gives us $400$ inputs\n",
        "\n",
        "$.$\n",
        "\n",
        "![Lab4_img1.png](data:image/png;base64,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)\n",
        "\n",
        "- The parameters have dimensions that are sized for a neural network with $25$ units in layer 1, $15$ units in layer 2 and $1$ output unit in layer 3.\n",
        "\n",
        "    - Recall that the dimensions of these parameters are determined as follows:\n",
        "        - If network has $s_{in}$ units in a layer and $s_{out}$ units in the next layer, then\n",
        "            - $W$ will be of dimension $s_{in} \\times s_{out}$.\n",
        "            - $b$ will a vector with $s_{out}$ elements\n",
        "  \n",
        "    - Therefore, the shapes of `W`, and `b`,  are\n",
        "        - layer1: The shape of `W1` is (400, 25) and the shape of `b1` is (25,)\n",
        "        - layer2: The shape of `W2` is (25, 15) and the shape of `b2` is: (15,)\n",
        "        - layer3: The shape of `W3` is (15, 1) and the shape of `b3` is: (1,)\n",
        ">**Note:** The bias vector `b` could be represented as a 1-D (n,) or 2-D (n,1) array. Tensorflow utilizes a 1-D representation and this lab will maintain that convention."
      ],
      "metadata": {
        "id": "u67q3KF4AzTY"
      }
    },
    {
      "cell_type": "markdown",
      "source": [
        "<a name=\"2.4\"></a>\n",
        "\n",
        "### 2.4 Tensorflow Model Implementation\n",
        "\n"
      ],
      "metadata": {
        "id": "JhTTC033M8HZ"
      }
    },
    {
      "cell_type": "markdown",
      "source": [
        "<a name=\"ex01\"></a>\n",
        "### Exercise 1\n",
        "\n",
        "Construct the network described above."
      ],
      "metadata": {
        "id": "EPqigbxtNCXZ"
      }
    },
    {
      "cell_type": "code",
      "source": [
        "model = Sequential(\n",
        "    [\n",
        "        tf.keras.Input(shape=(400,)),    #specify input size\n",
        "        ### START CODE HERE ###\n",
        "        tf.keras.layers.Dense(25, activation='relu', name='layer1'),\n",
        "        tf.keras.layers.Dense(15, activation='relu', name='layer2'),\n",
        "        tf.keras.layers.Dense(1, activation='sigmoid', name='layer3')\n",
        "        ### END CODE HERE ###\n",
        "    ], name = \"my_model\"\n",
        ")"
      ],
      "metadata": {
        "id": "sqGm9siFNGEj"
      },
      "execution_count": null,
      "outputs": []
    },
    {
      "cell_type": "code",
      "source": [
        "model.summary()"
      ],
      "metadata": {
        "id": "7Wjgojc4NJUZ"
      },
      "execution_count": null,
      "outputs": []
    },
    {
      "cell_type": "markdown",
      "source": [
        "<details>\n",
        "  <summary><font size=\"3\" color=\"darkblue\"><b>Expected Output (Click to Expand) </b></font></summary>\n",
        "The `model.summary()` function displays a useful summary of the model. Because we have specified an input layer size, the shape of the weight and bias arrays are determined and the total number of parameters per layer can be shown. Note, the names of the layers may vary as they are auto-generated.  \n",
        "    \n",
        "    \n",
        "```\n",
        "Model: \"my_model\"\n",
        "_________________________________________________________________\n",
        "Layer (type)                 Output Shape              Param #   \n",
        "=================================================================\n",
        "dense (Dense)                (None, 25)                10025     \n",
        "_________________________________________________________________\n",
        "dense_1 (Dense)              (None, 15)                390       \n",
        "_________________________________________________________________\n",
        "dense_2 (Dense)              (None, 1)                 16        \n",
        "=================================================================\n",
        "Total params: 10,431\n",
        "Trainable params: 10,431\n",
        "Non-trainable params: 0\n",
        "_________________________________________________________________\n",
        "```"
      ],
      "metadata": {
        "id": "NRN8BWEpNQbR"
      }
    },
    {
      "cell_type": "markdown",
      "source": [
        "The parameter counts shown in the summary correspond to the number of elements in the weight and bias arrays as shown below."
      ],
      "metadata": {
        "id": "rbCYQ5f1Nuxp"
      }
    },
    {
      "cell_type": "code",
      "source": [
        "L1_num_params = 400 * 25 + 25  # W1 parameters  + b1 parameters\n",
        "L2_num_params = 25 * 15 + 15   # W2 parameters  + b2 parameters\n",
        "L3_num_params = 15 * 1 + 1     # W3 parameters  + b3 parameters\n",
        "print(\"L1 params = \", L1_num_params, \", L2 params = \", L2_num_params, \",  L3 params = \", L3_num_params )"
      ],
      "metadata": {
        "id": "dUFU9-KWNvUB"
      },
      "execution_count": null,
      "outputs": []
    },
    {
      "cell_type": "markdown",
      "source": [
        "Let's further examine the weights to verify that tensorflow produced the same dimensions as we calculated above."
      ],
      "metadata": {
        "id": "fXaqBICXNzIx"
      }
    },
    {
      "cell_type": "code",
      "source": [
        "[layer1, layer2, layer3] = model.layers\n",
        "#### Examine Weights shapes\n",
        "W1,b1 = layer1.get_weights()\n",
        "W2,b2 = layer2.get_weights()\n",
        "W3,b3 = layer3.get_weights()\n",
        "print(f\"W1 shape = {W1.shape}, b1 shape = {b1.shape}\")\n",
        "print(f\"W2 shape = {W2.shape}, b2 shape = {b2.shape}\")\n",
        "print(f\"W3 shape = {W3.shape}, b3 shape = {b3.shape}\")"
      ],
      "metadata": {
        "id": "-W8yDmLFN02J"
      },
      "execution_count": null,
      "outputs": []
    },
    {
      "cell_type": "markdown",
      "source": [
        "**Expected Output**\n",
        "```\n",
        "W1 shape = (400, 25), b1 shape = (25,)  \n",
        "W2 shape = (25, 15), b2 shape = (15,)  \n",
        "W3 shape = (15, 1), b3 shape = (1,)\n",
        "```"
      ],
      "metadata": {
        "id": "pjA_HZa8N5bI"
      }
    },
    {
      "cell_type": "markdown",
      "source": [
        "`xx.get_weights` returns a NumPy array. One can also access the weights directly in their tensor form. Note the shape of the tensors in the final layer."
      ],
      "metadata": {
        "id": "Bfg5KzJQOA6a"
      }
    },
    {
      "cell_type": "code",
      "source": [
        "print(model.layers[2].weights)"
      ],
      "metadata": {
        "id": "UV-yHjOEOC0r"
      },
      "execution_count": null,
      "outputs": []
    },
    {
      "cell_type": "markdown",
      "source": [
        "Let's export the model into an H5/Keras file. Once exported, you can find model.keras in the same directory as this notebook. Download the file and use [Netron](https://netron.app/) to visualize its contents.\n"
      ],
      "metadata": {
        "id": "CT4orVWOQXIH"
      }
    },
    {
      "cell_type": "code",
      "source": [
        "model.save(\"my_model.keras\")"
      ],
      "metadata": {
        "id": "3f3pGoMJQapA"
      },
      "execution_count": null,
      "outputs": []
    },
    {
      "cell_type": "markdown",
      "source": [
        "<a name=\"ex02\"></a>\n",
        "### Exercise 2\n",
        "\n",
        "Train your model using BCE loss and Adam optimizer with lr=0.001 for 20 epochs. Then, test the impact of:\n",
        "\n",
        "\n",
        "*   The optimizer.\n",
        "*   The learning rate.\n",
        "\n"
      ],
      "metadata": {
        "id": "OWKzKVHAOFsw"
      }
    },
    {
      "cell_type": "code",
      "source": [
        "# YOUR CODE GOES HERE\n",
        "# Compile the model with BCE loss, Adam optimizer, and learning rate 0.001\n",
        "model.compile(\n",
        "    loss=tf.keras.losses.BinaryCrossentropy(),\n",
        "    optimizer=tf.keras.optimizers.Adam(learning_rate=0.001),\n",
        "    metrics=['accuracy']\n",
        ")\n",
        "\n",
        "history = model.fit(\n",
        "    X, y,\n",
        "    epochs=20,\n",
        "    batch_size=32,\n",
        "    validation_split=0.2\n",
        ")"
      ],
      "metadata": {
        "id": "-8omt7aQOGgy"
      },
      "execution_count": null,
      "outputs": []
    },
    {
      "cell_type": "markdown",
      "source": [
        "To run the model on an example to make a prediction, use [Keras `predict`](https://www.tensorflow.org/api_docs/python/tf/keras/Model). The input to `predict` is an array so the single example is reshaped to be two dimensional."
      ],
      "metadata": {
        "id": "dZvnac-mPM0Y"
      }
    },
    {
      "cell_type": "code",
      "source": [
        "prediction = model.predict(X[0].reshape(1,400))  # a zero\n",
        "print(f\" predicting a zero: {prediction}\")\n",
        "prediction = model.predict(X[500].reshape(1,400))  # a one\n",
        "print(f\" predicting a one:  {prediction}\")"
      ],
      "metadata": {
        "id": "tBmKLTkGPO24"
      },
      "execution_count": null,
      "outputs": []
    },
    {
      "cell_type": "markdown",
      "source": [
        "The output of the model is interpreted as a probability. In the first example above, the input is a zero. The model predicts the probability that the input is a one is nearly zero.\n",
        "In the second example, the input is a one. The model predicts the probability that the input is a one is nearly one.\n",
        "As in the case of logistic regression, the probability is compared to a threshold to make a final prediction."
      ],
      "metadata": {
        "id": "1ZcK4A7YPRmx"
      }
    },
    {
      "cell_type": "code",
      "source": [
        "if prediction >= 0.5:\n",
        "    yhat = 1\n",
        "else:\n",
        "    yhat = 0\n",
        "print(f\"prediction after threshold: {yhat}\")"
      ],
      "metadata": {
        "id": "l6s14d5LPWQI"
      },
      "execution_count": null,
      "outputs": []
    },
    {
      "cell_type": "code",
      "source": [
        "Yhat = (model.predict(X)>=0.5).astype(int)\n",
        "# Number of correctly classified samples\n",
        "print('Number of correctly classified sameple', np.sum(Yhat==y))"
      ],
      "metadata": {
        "id": "OBRA1fiZ_WhL"
      },
      "execution_count": null,
      "outputs": []
    },
    {
      "cell_type": "markdown",
      "source": [
        "Let's compare the predictions vs the labels for a random sample of 64 digits."
      ],
      "metadata": {
        "id": "7P_V9PSgPZW4"
      }
    },
    {
      "cell_type": "code",
      "source": [
        "import warnings\n",
        "warnings.simplefilter(action='ignore', category=FutureWarning)\n",
        "# You do not need to modify anything in this cell\n",
        "\n",
        "m, n = X.shape\n",
        "\n",
        "fig, axes = plt.subplots(8,8, figsize=(8,8))\n",
        "fig.tight_layout(pad=0.1,rect=[0, 0.03, 1, 0.92]) #[left, bottom, right, top]\n",
        "\n",
        "for i,ax in enumerate(axes.flat):\n",
        "    # Select random indices\n",
        "    random_index = np.random.randint(m)\n",
        "\n",
        "    # Select rows corresponding to the random indices and\n",
        "    # reshape the image\n",
        "    X_random_reshaped = X[random_index].reshape((20,20)).T\n",
        "\n",
        "    # Display the image\n",
        "    ax.imshow(X_random_reshaped, cmap='gray')\n",
        "\n",
        "    # Predict using the Neural Network\n",
        "    prediction = model.predict(X[random_index].reshape(1,400))\n",
        "    if prediction >= 0.5:\n",
        "        yhat = 1\n",
        "    else:\n",
        "        yhat = 0\n",
        "\n",
        "    # Display the label above the image\n",
        "    ax.set_title(f\"{y[random_index,0]},{yhat}\")\n",
        "    ax.set_axis_off()\n",
        "fig.suptitle(\"Label, yhat\", fontsize=16)\n",
        "plt.show()"
      ],
      "metadata": {
        "id": "kOjOQ11lPj3o"
      },
      "execution_count": null,
      "outputs": []
    },
    {
      "cell_type": "markdown",
      "source": [
        "<a name=\"2.5\"></a>\n",
        "\n",
        "### 2.5 Pytorch Model Implementation\n",
        "\n",
        "<a name=\"ex03\"></a>\n",
        "### Exercise 3\n",
        "\n",
        "Construct the network described in section 2.4 using the pytorch library."
      ],
      "metadata": {
        "id": "MKNkTMLxgSlr"
      }
    },
    {
      "cell_type": "code",
      "source": [
        "import torch\n",
        "import torch.nn as nn\n",
        "\n",
        "class DigitRecognitionNet(nn.Module):\n",
        "    def __init__(self):\n",
        "        super(DigitRecognitionNet, self).__init__()\n",
        "        # YOUR CODE STARTS HERE\n",
        "        # Define the layers of the network\n",
        "        self.layer1 = nn.Linear(400, 25)  # Input layer (400 inputs) -> Hidden layer 1 (25 neurons)\n",
        "        self.layer2 = nn.Linear(25, 15)   # Hidden layer 1 (25 neurons) -> Hidden layer 2 (15 neurons)\n",
        "        self.layer3 = nn.Linear(15, 1)    # Hidden layer 2 (15 neurons) -> Output layer (1 neuron)\n",
        "\n",
        "        # Activation functions\n",
        "        self.relu = nn.ReLU()          # ReLU activation for hidden layers\n",
        "        self.sigmoid = nn.Sigmoid()    # Sigmoid activation for the output layer\n",
        "        # YOUR CODE ENDS HERE\n",
        "\n",
        "    def forward(self, x):\n",
        "        # YOUR CODE STARTS HERE\n",
        "        # Forward pass through the network\n",
        "        x = self.relu(self.layer1(x))     # First hidden layer with ReLU activation\n",
        "        x = self.relu(self.layer2(x))     # Second hidden layer with ReLU activation\n",
        "        x = self.sigmoid(self.layer3(x))  # Output layer with Sigmoid activation\n",
        "        return x\n",
        "        # YOUR CODE ENDS HERE"
      ],
      "metadata": {
        "id": "ypwruPMgN575"
      },
      "execution_count": null,
      "outputs": []
    },
    {
      "cell_type": "code",
      "source": [
        "from torchsummary import summary\n",
        "model = DigitRecognitionNet ()\n",
        "summary(model, input_size=(1, 400))"
      ],
      "metadata": {
        "id": "k9qGj3JmpcQh"
      },
      "execution_count": null,
      "outputs": []
    },
    {
      "cell_type": "markdown",
      "source": [
        "<details>\n",
        "  <summary><font size=\"3\" color=\"darkblue\"><b>Expected Output (Click to Expand) </b></font></summary>\n",
        "The `summary()` function from torchsummary displays a useful summary of the model. Because we have specified an input layer size, the shape of the weight and bias arrays are determined and the total number of parameters per layer can be shown.  \n",
        "    \n",
        "    \n",
        "```\n",
        "----------------------------------------------------------------\n",
        "        Layer (type)               Output Shape         Param #\n",
        "================================================================\n",
        "            Linear-1                [-1, 1, 25]          10,025\n",
        "              ReLU-2                [-1, 1, 25]               0\n",
        "            Linear-3                [-1, 1, 15]             390\n",
        "              ReLU-4                [-1, 1, 15]               0\n",
        "            Linear-5                 [-1, 1, 1]              16\n",
        "           Sigmoid-6                 [-1, 1, 1]               0\n",
        "================================================================\n",
        "Total params: 10,431\n",
        "Trainable params: 10,431\n",
        "Non-trainable params: 0\n",
        "----------------------------------------------------------------\n",
        "Input size (MB): 0.00\n",
        "Forward/backward pass size (MB): 0.00\n",
        "Params size (MB): 0.04\n",
        "Estimated Total Size (MB): 0.04\n",
        "----------------------------------------------------------------\n",
        "```"
      ],
      "metadata": {
        "id": "6ldAJJ32qdyL"
      }
    },
    {
      "cell_type": "markdown",
      "source": [
        "The parameter counts shown in the summary correspond to the number of elements in the weight and bias arrays as shown below."
      ],
      "metadata": {
        "id": "iH8hLZktq46H"
      }
    },
    {
      "cell_type": "code",
      "source": [
        "L1_num_params = 400 * 25 + 25  # W1 parameters  + b1 parameters\n",
        "L2_num_params = 25 * 15 + 15   # W2 parameters  + b2 parameters\n",
        "L3_num_params = 15 * 1 + 1     # W3 parameters  + b3 parameters\n",
        "print(\"L1 params = \", L1_num_params, \", L2 params = \", L2_num_params, \",  L3 params = \", L3_num_params )"
      ],
      "metadata": {
        "id": "3za5saATrHO_"
      },
      "execution_count": null,
      "outputs": []
    },
    {
      "cell_type": "markdown",
      "source": [
        "Let's further examine the weights to verify that tensorflow produced the same dimensions as we calculated above."
      ],
      "metadata": {
        "id": "kiVTebNRrNkP"
      }
    },
    {
      "cell_type": "code",
      "source": [
        "# Access weights and biases for each layer\n",
        "W1, b1 = model.layer1.weight, model.layer1.bias\n",
        "W2, b2 = model.layer2.weight, model.layer2.bias\n",
        "W3, b3 = model.layer3.weight, model.layer3.bias\n",
        "\n",
        "# Print shapes of weights and biases\n",
        "print(f\"W1 shape = {W1.shape}, b1 shape = {b1.shape}\")\n",
        "print(f\"W2 shape = {W2.shape}, b2 shape = {b2.shape}\")\n",
        "print(f\"W3 shape = {W3.shape}, b3 shape = {b3.shape}\")"
      ],
      "metadata": {
        "id": "0lu-7N_rrVIg"
      },
      "execution_count": null,
      "outputs": []
    },
    {
      "cell_type": "markdown",
      "source": [
        "**Expected Output**\n",
        "```\n",
        "W1 shape = torch.Size([25, 400]), b1 shape = torch.Size([25])\n",
        "W2 shape = torch.Size([15, 25]), b2 shape = torch.Size([15])\n",
        "W3 shape = torch.Size([1, 15]), b3 shape = torch.Size([1])\n",
        "```\n",
        "\n",
        "In PyTorch, the shape of the weight matrix for a linear layer (nn.Linear) is reversed compared to frameworks like Keras/TensorFlow. Specifically:\n",
        "\n",
        "In Keras/TensorFlow, the weight matrix for a layer with input_dim = m and output_dim = n has a shape of [m, n].\n",
        "\n",
        "In PyTorch, the weight matrix for a layer with in_features = m and out_features = n has a shape of [n, m].\n",
        "\n",
        "For example:\n",
        "\n",
        "A layer with 400 input features and 25 output features:\n",
        "\n",
        "- In Keras/TensorFlow: W.shape = (400, 25)\n",
        "- In PyTorch: W.shape = (25, 400)"
      ],
      "metadata": {
        "id": "QqT29BUQturX"
      }
    },
    {
      "cell_type": "markdown",
      "source": [
        "`model.layerx.weight.data` returns a tensor."
      ],
      "metadata": {
        "id": "unNKHvByuc_O"
      }
    },
    {
      "cell_type": "code",
      "source": [
        "print(model.layer3.weight.data)"
      ],
      "metadata": {
        "id": "JnkMQAXpudgb"
      },
      "execution_count": null,
      "outputs": []
    },
    {
      "cell_type": "markdown",
      "source": [
        "<a name=\"ex04\"></a>\n",
        "### Exercise 4\n",
        "\n",
        "Train your model using BCE loss and Adam optimizer with lr=0.001 for 20 epochs. Then, test the impact of:\n",
        "\n",
        "\n",
        "*   The optimizer.\n",
        "*   The learning rate."
      ],
      "metadata": {
        "id": "ABXngyDzor-0"
      }
    },
    {
      "cell_type": "code",
      "source": [
        "import torch\n",
        "import torch.nn as nn\n",
        "import torch.optim as optim\n",
        "import matplotlib.pyplot as plt\n",
        "import numpy as np\n",
        "\n",
        "\n",
        "criterion = nn.BCELoss()\n",
        "optimizer = optim.Adam(model.parameters(), lr=0.001)\n",
        "\n",
        "X_tensor = torch.tensor(X, dtype=torch.float32)\n",
        "y_tensor = torch.tensor(y, dtype=torch.float32)\n",
        "\n",
        "epochs = 20\n",
        "train_losses = []\n",
        "\n",
        "for epoch in range(epochs):\n",
        "    optimizer.zero_grad()\n",
        "    outputs = model(X_tensor)\n",
        "    loss = criterion(outputs, y_tensor)\n",
        "    loss.backward()\n",
        "    optimizer.step()\n",
        "    train_losses.append(loss.item())\n",
        "    print(f'Epoch [{epoch+1}/{epochs}], Loss: {loss.item():.4f}')\n",
        "\n",
        "# Analyzing the impact of optimizer and learning rate\n",
        "optimizers = [\n",
        "    optim.Adam(model.parameters(), lr=0.001),\n",
        "    optim.SGD(model.parameters(), lr=0.001),\n",
        "    optim.RMSprop(model.parameters(), lr=0.001)\n",
        "]\n",
        "\n",
        "optimizer_losses = []\n",
        "\n",
        "for optimizer in optimizers:\n",
        "    model.train()\n",
        "\n",
        "    current_optimizer_losses = []\n",
        "    for epoch in range(epochs):\n",
        "        optimizer.zero_grad()\n",
        "        outputs = model(X_tensor)\n",
        "        loss = criterion(outputs, y_tensor)\n",
        "        loss.backward()\n",
        "        optimizer.step()\n",
        "        current_optimizer_losses.append(loss.item())\n",
        "\n",
        "    optimizer_losses.append(current_optimizer_losses)\n",
        "\n",
        "# Plot the training losses for each optimizer\n",
        "plt.plot(range(epochs), optimizer_losses[0], label='Adam')\n",
        "plt.plot(range(epochs), optimizer_losses[1], label='SGD')\n",
        "plt.plot(range(epochs), optimizer_losses[2], label='RMSprop')\n",
        "plt.xlabel('Epoch')\n",
        "plt.ylabel('Loss')\n",
        "plt.legend()\n",
        "plt.title('Impact of Optimizer on Training Loss')\n",
        "plt.show()\n",
        "\n",
        "# Analyzing the impact of learning rate\n",
        "learning_rates = [0.01, 0.001, 0.0001]\n",
        "lr_losses = []\n",
        "\n",
        "for lr in learning_rates:\n",
        "\n",
        "    model.train()\n",
        "    optimizer = optim.Adam(model.parameters(), lr=lr)  # Create optimizer with current lr\n",
        "\n",
        "    current_lr_losses = []\n",
        "    for epoch in range(epochs):\n",
        "        optimizer.zero_grad()\n",
        "        outputs = model(X_tensor)\n",
        "        loss = criterion(outputs, y_tensor)\n",
        "        loss.backward()\n",
        "        optimizer.step()\n",
        "        current_lr_losses.append(loss.item())\n",
        "\n",
        "    lr_losses.append(current_lr_losses)\n",
        "\n",
        "# Plot the training losses for each learning rate\n",
        "plt.plot(range(epochs), lr_losses[0], label='lr=0.01')\n",
        "plt.plot(range(epochs), lr_losses[1], label='lr=0.001')\n",
        "plt.plot(range(epochs), lr_losses[2], label='lr=0.0001')\n",
        "plt.xlabel('Epoch')\n",
        "plt.ylabel('Loss')\n",
        "plt.legend()\n",
        "plt.title('Impact of Learning Rate on Training Loss')\n",
        "plt.show()\n",
        "# YOUR CODE ENDS HERE"
      ],
      "metadata": {
        "id": "AabVZDw7vmb_"
      },
      "execution_count": null,
      "outputs": []
    },
    {
      "cell_type": "markdown",
      "source": [
        "**Were the losses obtained in your implementation comparable to those of the TensorFlow model?** If not, what are the potential factors contributing to this discrepancy, and what steps can be taken to align the results with those achieved in the TensorFlow implementation?\n"
      ],
      "metadata": {
        "id": "19VVo1Ay1na5"
      }
    },
    {
      "cell_type": "code",
      "source": [
        "prediction = model(X_tensor[0].reshape(1,400))  # a zero\n",
        "print(f\" predicting a zero: {prediction}\")\n",
        "prediction = model(X_tensor[500].reshape(1,400))  # a one\n",
        "print(f\" predicting a one:  {prediction}\")"
      ],
      "metadata": {
        "id": "jHt0oFx528sj"
      },
      "execution_count": null,
      "outputs": []
    },
    {
      "cell_type": "markdown",
      "source": [
        "The output of the model is interpreted as a probability. In the first example above, the input is a zero. The model predicts the probability that the input is a one is nearly zero.\n",
        "In the second example, the input is a one. The model predicts the probability that the input is a one is nearly one.\n",
        "As in the case of logistic regression, the probability is compared to a threshold to make a final prediction."
      ],
      "metadata": {
        "id": "JJsbQTbC4aHx"
      }
    },
    {
      "cell_type": "code",
      "source": [
        "if prediction >= 0.5:\n",
        "    yhat = 1\n",
        "else:\n",
        "    yhat = 0\n",
        "print(f\"prediction after threshold: {yhat}\")"
      ],
      "metadata": {
        "id": "8zXymBzX4cXR"
      },
      "execution_count": null,
      "outputs": []
    },
    {
      "cell_type": "code",
      "source": [
        "Yhat = (model(X_tensor)>=0.5).numpy().astype(int)\n",
        "# Number of correctly classified samples\n",
        "print('Number of correctly classified sameple', np.sum(Yhat==y))"
      ],
      "metadata": {
        "id": "sm4N-5I1AWST"
      },
      "execution_count": null,
      "outputs": []
    },
    {
      "cell_type": "markdown",
      "source": [
        "Let's compare the predictions vs the labels for a random sample of 64 digits."
      ],
      "metadata": {
        "id": "FgTLdBut4gWh"
      }
    },
    {
      "cell_type": "code",
      "source": [
        "import warnings\n",
        "warnings.simplefilter(action='ignore', category=FutureWarning)\n",
        "# You do not need to modify anything in this cell\n",
        "\n",
        "m, n = X.shape\n",
        "\n",
        "fig, axes = plt.subplots(8,8, figsize=(8,8))\n",
        "fig.tight_layout(pad=0.1,rect=[0, 0.03, 1, 0.92]) #[left, bottom, right, top]\n",
        "\n",
        "for i,ax in enumerate(axes.flat):\n",
        "    # Select random indices\n",
        "    random_index = np.random.randint(m)\n",
        "\n",
        "    # Select rows corresponding to the random indices and\n",
        "    # reshape the image\n",
        "    X_random_reshaped = X[random_index].reshape((20,20)).T\n",
        "\n",
        "    # Display the image\n",
        "    ax.imshow(X_random_reshaped, cmap='gray')\n",
        "\n",
        "    # Predict using the Neural Network\n",
        "    prediction = model(X_tensor[random_index].reshape(1,400))\n",
        "    if prediction >= 0.5:\n",
        "        yhat = 1\n",
        "    else:\n",
        "        yhat = 0\n",
        "\n",
        "    # Display the label above the image\n",
        "    ax.set_title(f\"{y[random_index,0]},{yhat}\")\n",
        "    ax.set_axis_off()\n",
        "fig.suptitle(\"Label, yhat\", fontsize=16)\n",
        "plt.show()"
      ],
      "metadata": {
        "id": "F6cZCmx04fpw"
      },
      "execution_count": null,
      "outputs": []
    },
    {
      "cell_type": "markdown",
      "source": [
        "<a name=\"2.6\"></a>\n",
        "### 2.6 NumPy Model Implementation (Forward Prop in NumPy)\n",
        "The goal here is to build your own dense layer using NumPy. This can then be utilized to build a multi-layer neural network.\n",
        "\n"
      ],
      "metadata": {
        "id": "d2bjOgBW5DqP"
      }
    },
    {
      "cell_type": "markdown",
      "source": [
        "<a name=\"ex05\"></a>\n",
        "### Exercise 5\n",
        "\n",
        "Build a dense layer subroutine that uses vectorized implementation of the forward prop step."
      ],
      "metadata": {
        "id": "FA54qvN85ZjY"
      }
    },
    {
      "cell_type": "code",
      "source": [
        "import numpy as np\n",
        "\n",
        "def my_dense(A_in, W, b, g):\n",
        "    \"\"\"\n",
        "    Computes dense layer\n",
        "    Args:\n",
        "      A_in (ndarray (m,n)) : Data, m examples, n features each\n",
        "      W    (ndarray (n,j)) : Weight matrix, n features per unit, j units\n",
        "      b    (ndarray (1,j)) : bias vector, j units\n",
        "      g    activation function (e.g., sigmoid, relu)\n",
        "    Returns:\n",
        "      A_out (ndarray (m,j)) : m examples, j units\n",
        "    \"\"\"\n",
        "    ### START CODE HERE ###\n",
        "    # Step 1: Matrix multiplication of A_in and W\n",
        "    Z = np.dot(A_in, W) + b  # Shape: (m, j)\n",
        "\n",
        "    # Step 2: Apply the activation function g\n",
        "    A_out = g(Z)  # Apply activation function element-wise\n",
        "\n",
        "    ### END CODE HERE ###\n",
        "    return A_out"
      ],
      "metadata": {
        "id": "uhGL9GXc54G3"
      },
      "execution_count": null,
      "outputs": []
    },
    {
      "cell_type": "code",
      "source": [
        "def sigmoid(z):\n",
        "    \"\"\"\n",
        "    Compute the sigmoid of z\n",
        "\n",
        "    Args:\n",
        "        z (ndarray): A scalar, numpy array of any size.\n",
        "\n",
        "    Returns:\n",
        "        g (ndarray): sigmoid(z), with the same shape as z\n",
        "\n",
        "    \"\"\"\n",
        "\n",
        "    g = 1/(1+np.exp(-z))\n",
        "    return g"
      ],
      "metadata": {
        "id": "6GteSI867NOl"
      },
      "execution_count": null,
      "outputs": []
    },
    {
      "cell_type": "code",
      "source": [
        "def relu(z):\n",
        "    \"\"\"\n",
        "    Compute the Rectified Linear Unit (ReLU) of z.\n",
        "\n",
        "    Args:\n",
        "        z (ndarray): A scalar, numpy array of any size.\n",
        "\n",
        "    Returns:\n",
        "        g (ndarray): relu(z), with the same shape as z.\n",
        "                     ReLU is defined as g = max(0, z).\n",
        "    \"\"\"\n",
        "\n",
        "    g = np.maximum(0, z)\n",
        "    return g"
      ],
      "metadata": {
        "id": "PWlwrnFY9rSL"
      },
      "execution_count": null,
      "outputs": []
    },
    {
      "cell_type": "code",
      "source": [
        "X_tst = 0.1*np.arange(1,9,1).reshape(4,2) # (4 examples, 2 features)\n",
        "W_tst = 0.1*np.arange(1,7,1).reshape(2,3) # (2 input features, 3 output features)\n",
        "b_tst = 0.1*np.arange(1,4,1).reshape(1,3) # (1, 3 features)\n",
        "A_tst = my_dense(X_tst, W_tst, b_tst, sigmoid)\n",
        "print(A_tst)"
      ],
      "metadata": {
        "id": "LIEXshoh6Ivm",
        "collapsed": true
      },
      "execution_count": null,
      "outputs": []
    },
    {
      "cell_type": "markdown",
      "source": [
        "**Expected Output**\n",
        "\n",
        "```\n",
        "[[0.54735762 0.57932425 0.61063923]\n",
        " [0.57199613 0.61301418 0.65248946]\n",
        " [0.5962827  0.64565631 0.6921095 ]\n",
        " [0.62010643 0.67699586 0.72908792]]\n",
        " ```"
      ],
      "metadata": {
        "id": "ykr6fWU06N5O"
      }
    },
    {
      "cell_type": "markdown",
      "source": [
        "<a name=\"ex05\"></a>\n",
        "### Exercise 5\n",
        "\n",
        "Complete the following function to build a 3-layer dense neural network. The function should take as input the initial input x, weight matrices W1, W2, W3, bias vectors b1, b2, b3, and apply the my_dense function with a sigmoid activation at each layer. Return the final output of the network."
      ],
      "metadata": {
        "id": "nEQ3zJiS7p91"
      }
    },
    {
      "cell_type": "code",
      "source": [
        "def my_sequential(X, W1, b1, W2, b2, W3, b3):\n",
        "    \"\"\"\n",
        "    Builds a 3-layer dense neural network using the my_dense function.\n",
        "\n",
        "    Args:\n",
        "      X (ndarray (m,n)) : Input data, m examples, n features each\n",
        "      W1 (ndarray (n,j1)): Weight matrix for the first layer, n features per unit, j1 units\n",
        "      b1 (ndarray (1,j1)): Bias vector for the first layer, j1 units\n",
        "      W2 (ndarray (j1,j2)): Weight matrix for the second layer, j1 inputs, j2 units\n",
        "      b2 (ndarray (1,j2)): Bias vector for the second layer, j2 units\n",
        "      W3 (ndarray (j2,j3)): Weight matrix for the third layer, j2 inputs, j3 units\n",
        "      b3 (ndarray (1,j3)): Bias vector for the third layer, j3 units\n",
        "\n",
        "    Returns:\n",
        "      A3 (ndarray (m,j3)) : Output of the third layer, m examples, j3 units\n",
        "    \"\"\"\n",
        "    # Define the sigmoid activation function\n",
        "    def sigmoid(z):\n",
        "        return 1 / (1 + np.exp(-z))\n",
        "\n",
        "    # YOUR CODE STARTS HERE\n",
        "\n",
        "    # First layer\n",
        "    A1 = my_dense(X, W1, b1, sigmoid)\n",
        "\n",
        "    # Second layer\n",
        "    A2 = my_dense(A1, W2, b2, sigmoid)\n",
        "\n",
        "    # Third layer\n",
        "    A3 = my_dense(A2, W3, b3, sigmoid)\n",
        "\n",
        "    # YOUR CODE ENDS HERE\n",
        "\n",
        "    return A3"
      ],
      "metadata": {
        "id": "VMMdigUy9BVu"
      },
      "execution_count": null,
      "outputs": []
    },
    {
      "cell_type": "markdown",
      "source": [
        "We can copy trained weights and biases from Tensorflow."
      ],
      "metadata": {
        "id": "tIbRDNJ19x4N"
      }
    },
    {
      "cell_type": "code",
      "source": [
        "W1_tmp,b1_tmp = layer1.get_weights()\n",
        "W2_tmp,b2_tmp = layer2.get_weights()\n",
        "W3_tmp,b3_tmp = layer3.get_weights()"
      ],
      "metadata": {
        "id": "UtRZcUM3-FkL"
      },
      "execution_count": null,
      "outputs": []
    },
    {
      "cell_type": "markdown",
      "source": [
        "Let's make a prediction with the new model. This will make a prediction on *all of the examples at once*. Note the shape of the output."
      ],
      "metadata": {
        "id": "jAjm6aCM-POT"
      }
    },
    {
      "cell_type": "code",
      "source": [
        "Prediction = my_sequential(X, W1_tmp, b1_tmp, W2_tmp, b2_tmp, W3_tmp, b3_tmp )\n",
        "Prediction.shape"
      ],
      "metadata": {
        "id": "DUSSnCBO-Si0"
      },
      "execution_count": null,
      "outputs": []
    },
    {
      "cell_type": "markdown",
      "source": [
        "We'll apply a threshold of 0.5 as before, but to all predictions at once."
      ],
      "metadata": {
        "id": "PwnTs1Os-rAb"
      }
    },
    {
      "cell_type": "code",
      "source": [
        "Yhat = (Prediction >= 0.5).astype(int)\n",
        "print(\"predict a zero: \",Yhat[0], \"predict a one: \", Yhat[500])"
      ],
      "metadata": {
        "id": "vWFUskza-g-s"
      },
      "execution_count": null,
      "outputs": []
    },
    {
      "cell_type": "code",
      "source": [
        "# Number of correctly classified samples\n",
        "print('Number of correctly classified sameple', np.sum(Yhat==y))"
      ],
      "metadata": {
        "id": "BJclquZu-3xs"
      },
      "execution_count": null,
      "outputs": []
    },
    {
      "cell_type": "markdown",
      "source": [
        "Run the following cell to see predictions. This will use the predictions we just calculated above."
      ],
      "metadata": {
        "id": "_-kptgGu-upL"
      }
    },
    {
      "cell_type": "code",
      "source": [
        "import warnings\n",
        "warnings.simplefilter(action='ignore', category=FutureWarning)\n",
        "# You do not need to modify anything in this cell\n",
        "\n",
        "m, n = X.shape\n",
        "\n",
        "fig, axes = plt.subplots(8, 8, figsize=(8, 8))\n",
        "fig.tight_layout(pad=0.1, rect=[0, 0.03, 1, 0.92]) #[left, bottom, right, top]\n",
        "\n",
        "for i, ax in enumerate(axes.flat):\n",
        "    # Select random indices\n",
        "    random_index = np.random.randint(m)\n",
        "\n",
        "    # Select rows corresponding to the random indices and\n",
        "    # reshape the image\n",
        "    X_random_reshaped = X[random_index].reshape((20, 20)).T\n",
        "\n",
        "    # Display the image\n",
        "    ax.imshow(X_random_reshaped, cmap='gray')\n",
        "\n",
        "    # Display the label above the image\n",
        "    ax.set_title(f\"{y[random_index,0]}, {Yhat[random_index, 0]}\")\n",
        "    ax.set_axis_off()\n",
        "fig.suptitle(\"Label, Yhat\", fontsize=16)\n",
        "plt.show()"
      ],
      "metadata": {
        "id": "BrrPcpWW-w6M"
      },
      "execution_count": null,
      "outputs": []
    }
  ]
}